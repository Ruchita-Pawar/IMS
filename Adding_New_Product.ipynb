{
 "cells": [
  {
   "cell_type": "code",
   "execution_count": 90,
   "metadata": {
    "id": "o_ui8kDIZ5cn"
   },
   "outputs": [],
   "source": [
    "import json\n",
    "import datetime\n",
    "fd=open(\"new_record.json\",'r')\n",
    "a=fd.read()\n",
    "fd.close()"
   ]
  },
  {
   "cell_type": "code",
   "execution_count": 91,
   "metadata": {
    "colab": {
     "base_uri": "https://localhost:8080/",
     "height": 35
    },
    "id": "IwGJKjrhmzxk",
    "outputId": "2c0eea9d-5778-463c-a115-402829414b8b"
   },
   "outputs": [
    {
     "data": {
      "application/vnd.google.colaboratory.intrinsic+json": {
       "type": "string"
      },
      "text/plain": [
       "'{\"1001\":{\"name\":\"Potato Chhips\",\"brand\":\"Lays\",\"qu\":45,\"pr\":17,\"d\":\"30-03-2023\",\"cat\":\"Food-item\"}}'"
      ]
     },
     "execution_count": 91,
     "metadata": {},
     "output_type": "execute_result"
    }
   ],
   "source": [
    "a"
   ]
  },
  {
   "cell_type": "code",
   "execution_count": 92,
   "metadata": {
    "id": "y8Bw56BNm4dz"
   },
   "outputs": [],
   "source": [
    "record=json.loads(a)"
   ]
  },
  {
   "cell_type": "code",
   "execution_count": 93,
   "metadata": {
    "colab": {
     "base_uri": "https://localhost:8080/"
    },
    "id": "OX-WbGhtm-QD",
    "outputId": "51789623-09ba-4d54-a9ef-6c6096f25bf9"
   },
   "outputs": [
    {
     "data": {
      "text/plain": [
       "{'1001': {'brand': 'Lays',\n",
       "  'cat': 'Food-item',\n",
       "  'd': '30-03-2023',\n",
       "  'name': 'Potato Chhips',\n",
       "  'pr': 17,\n",
       "  'qu': 45}}"
      ]
     },
     "execution_count": 93,
     "metadata": {},
     "output_type": "execute_result"
    }
   ],
   "source": [
    "record"
   ]
  },
  {
   "cell_type": "code",
   "execution_count": 156,
   "metadata": {
    "colab": {
     "base_uri": "https://localhost:8080/"
    },
    "id": "KHZc6tROnHEa",
    "outputId": "bb3e6f2d-2c6f-4958-df5c-2aef6c2a2641"
   },
   "outputs": [
    {
     "name": "stdout",
     "output_type": "stream",
     "text": [
      "Enter Product Id:1031\n",
      "Enter the product name:Canned Beans\n",
      "Enter Product category:food\n",
      "Enter the prize of product:100\n",
      "Enter the Quantity of Product:25\n",
      "Enter the brand of Product:HenzBenz\n",
      "Enter the Validity date:13-04-2022\n"
     ]
    }
   ],
   "source": [
    "id=str(input(\"Enter Product Id:\"))\n",
    "name=str(input(\"Enter the product name:\"))\n",
    "cat=str(input(\"Enter Product category:\"))\n",
    "pr=int(input(\"Enter the prize of product:\"))\n",
    "qu=int(input(\"Enter the Quantity of Product:\"))\n",
    "brand=str(input(\"Enter the brand of Product:\"))\n",
    "date=input(\"Enter the Validity date:\")\n",
    "record[id]={'name':name,'brand':brand,'pr':pr,\"qu\":qu,'date':date,'cat':cat}\n",
    "js=json.dumps(record)\n",
    "\n",
    "fd=open(\"new_record.json\",'w')\n",
    "fd.write(js)\n",
    "fd.close()\n",
    "\n"
   ]
  },
  {
   "cell_type": "code",
   "execution_count": null,
   "metadata": {
    "id": "Udv-rSbhJBLe"
   },
   "outputs": [],
   "source": []
  },
  {
   "cell_type": "code",
   "execution_count": 157,
   "metadata": {
    "colab": {
     "base_uri": "https://localhost:8080/"
    },
    "id": "JhU4U3XqHqG8",
    "outputId": "3cd2976c-d1ff-421e-ae9d-6308b808b7b4"
   },
   "outputs": [
    {
     "data": {
      "text/plain": [
       "{'1001': {'brand': 'Lays',\n",
       "  'cat': 'Food-item',\n",
       "  'd': '30-03-2023',\n",
       "  'name': 'Potato Chhips',\n",
       "  'pr': 17,\n",
       "  'qu': 45},\n",
       " '1002': {'brand': 'Lotte',\n",
       "  'cat': 'food',\n",
       "  'date': '20-09-2022',\n",
       "  'name': 'Choco-Pie',\n",
       "  'pr': 25,\n",
       "  'qu': 25},\n",
       " '1003': {'brand': 'Dairy',\n",
       "  'cat': 'food',\n",
       "  'date': '20-09-2021',\n",
       "  'name': 'Milk',\n",
       "  'pr': 60,\n",
       "  'qu': 15},\n",
       " '1004': {'brand': 'gemini',\n",
       "  'cat': 'food',\n",
       "  'date': '20-12-2022',\n",
       "  'name': 'cookingoil',\n",
       "  'pr': 80,\n",
       "  'qu': 15},\n",
       " '1005': {'brand': 'Lays',\n",
       "  'cat': 'food',\n",
       "  'date': '20-12-2021',\n",
       "  'name': 'Chips',\n",
       "  'pr': 20,\n",
       "  'qu': 20},\n",
       " '1006': {'brand': 'MotherEarth',\n",
       "  'cat': 'food',\n",
       "  'date': '12-09-2021',\n",
       "  'name': 'Bread',\n",
       "  'pr': 25,\n",
       "  'qu': 10},\n",
       " '1007': {'brand': 'Kissan',\n",
       "  'cat': 'food',\n",
       "  'date': '20-12-2022',\n",
       "  'name': 'Fruit-Jam',\n",
       "  'pr': 60,\n",
       "  'qu': 20},\n",
       " '1008': {'brand': 'Maggie',\n",
       "  'cat': 'food',\n",
       "  'date': '20-10-2022',\n",
       "  'name': 'Noodles',\n",
       "  'pr': 20,\n",
       "  'qu': 20},\n",
       " '1009': {'brand': 'Perk',\n",
       "  'cat': 'food',\n",
       "  'date': '12-12-2021',\n",
       "  'name': '5 Star',\n",
       "  'pr': 20,\n",
       "  'qu': 10},\n",
       " '1010': {'brand': 'Amul',\n",
       "  'cat': 'food',\n",
       "  'date': '24-08-2022',\n",
       "  'name': 'Bytter',\n",
       "  'pr': 50,\n",
       "  'qu': 25},\n",
       " '1011': {'brand': 'Jimmy',\n",
       "  'cat': 'food',\n",
       "  'date': '12-09-2022',\n",
       "  'name': 'Tomato-Ketchup',\n",
       "  'pr': 35,\n",
       "  'qu': 25},\n",
       " '1012': {'brand': 'Haldiram',\n",
       "  'cat': 'food',\n",
       "  'date': '15-07-2023',\n",
       "  'name': 'Sonpapdi',\n",
       "  'pr': 150,\n",
       "  'qu': 20},\n",
       " '1013': {'brand': 'Almond',\n",
       "  'cat': 'Cosmetic',\n",
       "  'date': '28-02-2023',\n",
       "  'name': 'Hiar-oil',\n",
       "  'pr': 45,\n",
       "  'qu': 25},\n",
       " '1014': {'brand': 'Nykaa',\n",
       "  'cat': 'Cosmetic',\n",
       "  'date': '14-08-2024',\n",
       "  'name': 'Nailpolish',\n",
       "  'pr': 50,\n",
       "  'qu': 25},\n",
       " '1015': {'brand': 'MamaEarth',\n",
       "  'cat': 'Cosmetic',\n",
       "  'date': '16-07-2023',\n",
       "  'name': 'Hair Serum',\n",
       "  'pr': 80,\n",
       "  'qu': 10},\n",
       " '1016': {'brand': 'Himalaya',\n",
       "  'cat': 'Cosmetic',\n",
       "  'date': '17-06-2023',\n",
       "  'name': 'Facewash',\n",
       "  'pr': 45,\n",
       "  'qu': 25},\n",
       " '1017': {'brand': 'Lifeboy',\n",
       "  'cat': 'Medicinal',\n",
       "  'date': '16-05-2022',\n",
       "  'name': 'Hand-Sanitizer',\n",
       "  'pr': 35,\n",
       "  'qu': 35},\n",
       " '1018': {'brand': 'Dettol',\n",
       "  'cat': 'Medicinal',\n",
       "  'date': '15-02-2023',\n",
       "  'name': 'Floor-Cleaner',\n",
       "  'pr': 80,\n",
       "  'qu': 20},\n",
       " '1019': {'brand': 'LUX',\n",
       "  'cat': 'Medicinal',\n",
       "  'date': '16-09-2022',\n",
       "  'name': 'Bodywash',\n",
       "  'pr': 60,\n",
       "  'qu': 40},\n",
       " '1020': {'brand': 'Cornato',\n",
       "  'cat': 'food',\n",
       "  'date': '19-10-2021',\n",
       "  'name': 'Ice-Cream',\n",
       "  'pr': 100,\n",
       "  'qu': 45},\n",
       " '1021': {'brand': 'Govid',\n",
       "  'cat': 'food',\n",
       "  'date': '10-09-2021',\n",
       "  'name': 'Panner',\n",
       "  'pr': 60,\n",
       "  'qu': 5},\n",
       " '1022': {'brand': 'Milkyway',\n",
       "  'cat': 'food',\n",
       "  'date': '15-10-2021',\n",
       "  'name': 'Crud',\n",
       "  'pr': 50,\n",
       "  'qu': 15},\n",
       " '1023': {'brand': 'Milky',\n",
       "  'cat': 'food',\n",
       "  'date': '13-10-2021',\n",
       "  'name': 'ilkyBar',\n",
       "  'pr': 25,\n",
       "  'qu': 25},\n",
       " '1024': {'brand': 'out-all',\n",
       "  'cat': 'medicinal',\n",
       "  'date': '10-02-2023',\n",
       "  'name': 'All-Out',\n",
       "  'pr': 40,\n",
       "  'qu': 20},\n",
       " '1025': {'brand': 'Apollo',\n",
       "  'cat': 'medicinal',\n",
       "  'date': '23-12-2024',\n",
       "  'name': 'Facemask',\n",
       "  'pr': 60,\n",
       "  'qu': 25},\n",
       " '1026': {'brand': 'Bharat',\n",
       "  'cat': 'food',\n",
       "  'date': '12-12-2021',\n",
       "  'name': 'Whaet',\n",
       "  'pr': 30,\n",
       "  'qu': 45},\n",
       " '1027': {'brand': 'Apna',\n",
       "  'cat': 'food',\n",
       "  'date': '10-10-2022',\n",
       "  'name': 'Rice',\n",
       "  'pr': 45,\n",
       "  'qu': 35},\n",
       " '1028': {'brand': 'Ashirwad',\n",
       "  'cat': 'food',\n",
       "  'date': '13-03-2022',\n",
       "  'name': 'Bajra',\n",
       "  'pr': 35,\n",
       "  'qu': 45},\n",
       " '1029': {'brand': 'khara',\n",
       "  'cat': 'food',\n",
       "  'date': '14-05-2022',\n",
       "  'name': 'sugar',\n",
       "  'pr': 45,\n",
       "  'qu': 35},\n",
       " '1030': {'brand': 'Vim',\n",
       "  'cat': 'Cosmetic',\n",
       "  'date': '19-11-2022',\n",
       "  'name': 'Dishwashing soap',\n",
       "  'pr': 15,\n",
       "  'qu': 20},\n",
       " '1031': {'brand': 'HenzBenz',\n",
       "  'cat': 'food',\n",
       "  'date': '13-04-2022',\n",
       "  'name': 'Canned Beans',\n",
       "  'pr': 100,\n",
       "  'qu': 25}}"
      ]
     },
     "execution_count": 157,
     "metadata": {},
     "output_type": "execute_result"
    }
   ],
   "source": [
    "record"
   ]
  },
  {
   "cell_type": "code",
   "execution_count": 143,
   "metadata": {
    "id": "wwNcrorDoP9A"
   },
   "outputs": [],
   "source": [
    "  js=json.dumps(record)"
   ]
  },
  {
   "cell_type": "code",
   "execution_count": 105,
   "metadata": {
    "id": "A45iStM6soGR"
   },
   "outputs": [],
   "source": [
    "\n",
    "fd=open(\"new_record.json\",'w')\n",
    "fd.write(js)\n",
    "fd.close()"
   ]
  },
  {
   "cell_type": "code",
   "execution_count": 139,
   "metadata": {
    "colab": {
     "base_uri": "https://localhost:8080/"
    },
    "id": "_jInGh6xwOVa",
    "outputId": "bcee2dcd-234e-4c58-bdfe-829752938329"
   },
   "outputs": [
    {
     "data": {
      "text/plain": [
       "{'1001': {'brand': 'Lays',\n",
       "  'cat': 'Food-item',\n",
       "  'd': '30-03-2023',\n",
       "  'name': 'Potato Chhips',\n",
       "  'pr': 17,\n",
       "  'qu': 45},\n",
       " '1002': {'brand': 'Lotte',\n",
       "  'cat': 'food',\n",
       "  'date': '20-09-2022',\n",
       "  'name': 'Choco-Pie',\n",
       "  'pr': 25,\n",
       "  'qu': 25},\n",
       " '1003': {'brand': 'Dairy',\n",
       "  'cat': 'food',\n",
       "  'date': '20-09-2021',\n",
       "  'name': 'Milk',\n",
       "  'pr': 60,\n",
       "  'qu': 15},\n",
       " '1004': {'brand': 'gemini',\n",
       "  'cat': 'food',\n",
       "  'date': '20-12-2022',\n",
       "  'name': 'cookingoil',\n",
       "  'pr': 80,\n",
       "  'qu': 15},\n",
       " '1005': {'brand': 'Lays',\n",
       "  'cat': 'food',\n",
       "  'date': '20-12-2021',\n",
       "  'name': 'Chips',\n",
       "  'pr': 20,\n",
       "  'qu': 20},\n",
       " '1006': {'brand': 'MotherEarth',\n",
       "  'cat': 'food',\n",
       "  'date': '12-09-2021',\n",
       "  'name': 'Bread',\n",
       "  'pr': 25,\n",
       "  'qu': 10},\n",
       " '1007': {'brand': 'Kissan',\n",
       "  'cat': 'food',\n",
       "  'date': '20-12-2022',\n",
       "  'name': 'Fruit-Jam',\n",
       "  'pr': 60,\n",
       "  'qu': 20},\n",
       " '1008': {'brand': 'Maggie',\n",
       "  'cat': 'food',\n",
       "  'date': '20-10-2022',\n",
       "  'name': 'Noodles',\n",
       "  'pr': 20,\n",
       "  'qu': 20},\n",
       " '1009': {'brand': 'Perk',\n",
       "  'cat': 'food',\n",
       "  'date': '12-12-2021',\n",
       "  'name': '5 Star',\n",
       "  'pr': 20,\n",
       "  'qu': 10},\n",
       " '1010': {'brand': 'Amul',\n",
       "  'cat': 'food',\n",
       "  'date': '24-08-2022',\n",
       "  'name': 'Bytter',\n",
       "  'pr': 50,\n",
       "  'qu': 25},\n",
       " '1011': {'brand': 'Jimmy',\n",
       "  'cat': 'food',\n",
       "  'date': '12-09-2022',\n",
       "  'name': 'Tomato-Ketchup',\n",
       "  'pr': 35,\n",
       "  'qu': 25},\n",
       " '1012': {'brand': 'Haldiram',\n",
       "  'cat': 'food',\n",
       "  'date': '15-07-2023',\n",
       "  'name': 'Sonpapdi',\n",
       "  'pr': 150,\n",
       "  'qu': 20},\n",
       " '1013': {'brand': 'Almond',\n",
       "  'cat': 'Cosmetic',\n",
       "  'date': '28-02-2023',\n",
       "  'name': 'Hiar-oil',\n",
       "  'pr': 45,\n",
       "  'qu': 25},\n",
       " '1014': {'brand': 'Nykaa',\n",
       "  'cat': 'Cosmetic',\n",
       "  'date': '14-08-2024',\n",
       "  'name': 'Nailpolish',\n",
       "  'pr': 50,\n",
       "  'qu': 25},\n",
       " '1015': {'brand': 'MamaEarth',\n",
       "  'cat': 'Cosmetic',\n",
       "  'date': '16-07-2023',\n",
       "  'name': 'Hair Serum',\n",
       "  'pr': 80,\n",
       "  'qu': 10},\n",
       " '1016': {'brand': 'Himalaya',\n",
       "  'cat': 'Cosmetic',\n",
       "  'date': '17-06-2023',\n",
       "  'name': 'Facewash',\n",
       "  'pr': 45,\n",
       "  'qu': 25},\n",
       " '1017': {'brand': 'Lifeboy',\n",
       "  'cat': 'Medicinal',\n",
       "  'date': '16-05-2022',\n",
       "  'name': 'Hand-Sanitizer',\n",
       "  'pr': 35,\n",
       "  'qu': 35},\n",
       " '1018': {'brand': 'Dettol',\n",
       "  'cat': 'Medicinal',\n",
       "  'date': '15-02-2023',\n",
       "  'name': 'Floor-Cleaner',\n",
       "  'pr': 80,\n",
       "  'qu': 20},\n",
       " '1019': {'brand': 'LUX',\n",
       "  'cat': 'Medicinal',\n",
       "  'date': '16-09-2022',\n",
       "  'name': 'Bodywash',\n",
       "  'pr': 60,\n",
       "  'qu': 40},\n",
       " '1020': {'brand': 'Cornato',\n",
       "  'cat': 'food',\n",
       "  'date': '19-10-2021',\n",
       "  'name': 'Ice-Cream',\n",
       "  'pr': 100,\n",
       "  'qu': 45},\n",
       " '1021': {'brand': 'Govid',\n",
       "  'cat': 'food',\n",
       "  'date': '10-09-2021',\n",
       "  'name': 'Panner',\n",
       "  'pr': 60,\n",
       "  'qu': 5},\n",
       " '1022': {'brand': 'Milkyway',\n",
       "  'cat': 'food',\n",
       "  'date': '15-10-2021',\n",
       "  'name': 'Crud',\n",
       "  'pr': 50,\n",
       "  'qu': 15},\n",
       " '1023': {'brand': 'Milky',\n",
       "  'cat': 'food',\n",
       "  'date': '13-10-2021',\n",
       "  'name': 'ilkyBar',\n",
       "  'pr': 25,\n",
       "  'qu': 25}}"
      ]
     },
     "execution_count": 139,
     "metadata": {},
     "output_type": "execute_result"
    }
   ],
   "source": [
    "record"
   ]
  },
  {
   "cell_type": "code",
   "execution_count": 104,
   "metadata": {
    "colab": {
     "base_uri": "https://localhost:8080/",
     "height": 88
    },
    "id": "D0alLkw2wSLx",
    "outputId": "ea5b53b8-9e93-4670-a3d5-08b1a54ed674"
   },
   "outputs": [
    {
     "data": {
      "application/vnd.google.colaboratory.intrinsic+json": {
       "type": "string"
      },
      "text/plain": [
       "'{\"1001\": {\"name\": \"Potato Chhips\", \"brand\": \"Lays\", \"qu\": 45, \"pr\": 17, \"d\": \"30-03-2023\", \"cat\": \"Food-item\"}, \"1002\": {\"name\": \"Choco-Pie\", \"brand\": \"Lotte\", \"pr\": 25, \"qu\": 25, \"date\": \"20-09-2022\", \"cat\": \"food\"}, \"1003\": {\"name\": \"Milk\", \"brand\": \"Dairy\", \"pr\": 60, \"qu\": 15, \"date\": \"20-09-2021\", \"cat\": \"food\"}, \"1004\": {\"name\": \"cookingoil\", \"brand\": \"gemini\", \"pr\": 80, \"qu\": 15, \"date\": \"20-12-2022\", \"cat\": \"food\"}, \"1005\": {\"name\": \"Chips\", \"brand\": \"Lays\", \"pr\": 20, \"qu\": 20, \"date\": \"20-12-2021\", \"cat\": \"food\"}}'"
      ]
     },
     "execution_count": 104,
     "metadata": {},
     "output_type": "execute_result"
    }
   ],
   "source": [
    "js"
   ]
  },
  {
   "cell_type": "code",
   "execution_count": 153,
   "metadata": {
    "id": "Umvio7Tv5-_n"
   },
   "outputs": [],
   "source": [
    "del record['1029']"
   ]
  },
  {
   "cell_type": "code",
   "execution_count": 111,
   "metadata": {
    "colab": {
     "base_uri": "https://localhost:8080/",
     "height": 35
    },
    "id": "vQUASHWL_6lI",
    "outputId": "2153101b-0759-4622-af7d-f28f4f8feec7"
   },
   "outputs": [
    {
     "data": {
      "application/vnd.google.colaboratory.intrinsic+json": {
       "type": "string"
      },
      "text/plain": [
       "''"
      ]
     },
     "execution_count": 111,
     "metadata": {},
     "output_type": "execute_result"
    }
   ],
   "source": [
    "''"
   ]
  },
  {
   "cell_type": "code",
   "execution_count": null,
   "metadata": {
    "id": "h1Si_bY__8Rd"
   },
   "outputs": [],
   "source": []
  }
 ],
 "metadata": {
  "colab": {
   "collapsed_sections": [],
   "name": "Adding_New_Product.ipynb",
   "provenance": []
  },
  "kernelspec": {
   "display_name": "Python 3",
   "language": "python",
   "name": "python3"
  },
  "language_info": {
   "codemirror_mode": {
    "name": "ipython",
    "version": 3
   },
   "file_extension": ".py",
   "mimetype": "text/x-python",
   "name": "python",
   "nbconvert_exporter": "python",
   "pygments_lexer": "ipython3",
   "version": "3.8.8"
  }
 },
 "nbformat": 4,
 "nbformat_minor": 1
}
