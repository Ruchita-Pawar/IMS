{
  "nbformat": 4,
  "nbformat_minor": 0,
  "metadata": {
    "colab": {
      "name": "Purchase_Products.ipynb",
      "provenance": [],
      "collapsed_sections": []
    },
    "kernelspec": {
      "name": "python3",
      "display_name": "Python 3"
    },
    "language_info": {
      "name": "python"
    }
  },
  "cells": [
    {
      "cell_type": "code",
      "metadata": {
        "id": "p0RN-P66R3g6"
      },
      "source": [
        "import json\n",
        "import time\n",
        "fd=open(\"new_record.json\",'r')\n",
        "a=fd.read()\n",
        "fd.close()\n",
        "record = json.loads(a)\n",
        "\n"
      ],
      "execution_count": 294,
      "outputs": []
    },
    {
      "cell_type": "markdown",
      "metadata": {
        "id": "BdytQZy76SS0"
      },
      "source": [
        "Product Purchase"
      ]
    },
    {
      "cell_type": "code",
      "metadata": {
        "colab": {
          "base_uri": "https://localhost:8080/"
        },
        "id": "muFIQpOStXYq",
        "outputId": "ea4d9d2b-2e88-4976-c639-d6f39718973e"
      },
      "source": [
        "u_pro=str(input(\"Enter the Product Id:\"))\n",
        "if u_pro in record:\n",
        "  print(\"Product Exists\")\n",
        "  u_qu=int(input(\"Enter the Quantity:\"))\n",
        "  z=(record[u_pro]['qu'] < u_qu)\n",
        "  if(z):\n",
        "    c=str(record[u_pro]['qu'])\n",
        "    print(\"The quantity is less we have \",c)\n",
        "    d=str(input(\"Do you want to purchase(Y/N):\"))\n",
        "    if(d=='Y'):\n",
        "      e=int(input(\"How much do you want\"))\n",
        "    else:\n",
        "      print(\"Sorry!!\")  \n",
        "     \n",
        "  else:\n",
        "    print(\"Product in Stock\")  \n",
        "else:\n",
        "  print(\"Product not exist\") \n",
        "print(\"Products: \",record[u_pro]['name'])\n",
        "print(\"Price: \",record[u_pro]['pr'])\n",
        "print(\"Billing Amount :\",record[u_pro]['pr']*u_qu) \n",
        "record[u_pro]['qu']=record[u_pro]['qu']-u_qu\n",
        "\n",
        "  \n"
      ],
      "execution_count": 295,
      "outputs": [
        {
          "output_type": "stream",
          "name": "stdout",
          "text": [
            "Enter the Product Id:1015\n",
            "Product Exists\n",
            "Enter the Quantity:1\n",
            "Product in Stock\n",
            "Products:  Hair Serum\n",
            "Price:  80\n",
            "Billing Amount : 80\n"
          ]
        }
      ]
    },
    {
      "cell_type": "code",
      "metadata": {
        "id": "ViObbPVG1t19"
      },
      "source": [
        "js=json.dumps(record)\n",
        "fd=open(\"new_record.json\",'w')\n",
        "fd.write(js)\n",
        "fd.close()"
      ],
      "execution_count": 296,
      "outputs": []
    },
    {
      "cell_type": "code",
      "metadata": {
        "id": "mlQs7UAp4csQ"
      },
      "source": [
        "import json\n",
        "fd=open(\"Scales.json\",'r')\n",
        "y=fd.read()\n",
        "fd.close()"
      ],
      "execution_count": 297,
      "outputs": []
    },
    {
      "cell_type": "code",
      "metadata": {
        "id": "Kaj5CVmHGw6d"
      },
      "source": [
        "x=json.loads(y)\n",
        "\n"
      ],
      "execution_count": 298,
      "outputs": []
    },
    {
      "cell_type": "markdown",
      "metadata": {
        "id": "uToFm26sEshK"
      },
      "source": [
        "Scales Details\n"
      ]
    },
    {
      "cell_type": "code",
      "metadata": {
        "id": "BoMZogLuG2Sc"
      },
      "source": [
        "\n",
        "t = time.ctime()\n",
        "x[u_pro]={'Transaction ID:':(u_pro+'110'), 'Transaction time:':t, 'Product Id': u_pro, 'name':record[u_pro]['name'],'Quantity': u_qu,'Price:':record[u_pro]['pr']*u_qu,}     \n",
        "     \n",
        "\n",
        "        "
      ],
      "execution_count": 299,
      "outputs": []
    },
    {
      "cell_type": "code",
      "metadata": {
        "id": "DLYFUTAWLMfv"
      },
      "source": [
        "jp=json.dumps(x)\n",
        "fd=open(\"Scales.json\",'w')\n",
        "fd.write(jp)\n",
        "fd.close()"
      ],
      "execution_count": 300,
      "outputs": []
    },
    {
      "cell_type": "code",
      "metadata": {
        "colab": {
          "base_uri": "https://localhost:8080/",
          "height": 159
        },
        "id": "2WDlIWCaLvNX",
        "outputId": "9889c27a-2865-4c20-96d0-99c39b8eb243"
      },
      "source": [
        "jp"
      ],
      "execution_count": 301,
      "outputs": [
        {
          "output_type": "execute_result",
          "data": {
            "application/vnd.google.colaboratory.intrinsic+json": {
              "type": "string"
            },
            "text/plain": [
              "'{\"1\": {\"Transaction ID:\": 12, \"Transaction time:\": \"Mon Sep  6 10:47:47 2021\", \"Product Id\": \"1001\", \"name\": \"Potato Chhips\", \"Quantity\": 5, \"Price:\": 85}, \"1003\": {\"Transaction ID:\": \"1003110\", \"Transaction time:\": \"Mon Sep  6 12:47:11 2021\", \"Product Id\": \"1003\", \"name\": \"Milk\", \"Quantity\": 1, \"Price:\": 60}, \"1004\": {\"Transaction ID:\": \"1004110\", \"Transaction time:\": \"Mon Sep  6 12:48:13 2021\", \"Product Id\": \"1004\", \"name\": \"cookingoil\", \"Quantity\": 1, \"Price:\": 80}, \"1001\": {\"Transaction ID:\": \"1001110\", \"Transaction time:\": \"Mon Sep  6 12:49:13 2021\", \"Product Id\": \"1001\", \"name\": \"Potato Chhips\", \"Quantity\": 1, \"Price:\": 17}, \"1006\": {\"Transaction ID:\": \"1006110\", \"Transaction time:\": \"Mon Sep  6 12:51:08 2021\", \"Product Id\": \"1006\", \"name\": \"Bread\", \"Quantity\": 2, \"Price:\": 50}, \"1007\": {\"Transaction ID:\": \"1007110\", \"Transaction time:\": \"Mon Sep  6 12:52:15 2021\", \"Product Id\": \"1007\", \"name\": \"Fruit-Jam\", \"Quantity\": 3, \"Price:\": 180}, \"1008\": {\"Transaction ID:\": \"1008110\", \"Transaction time:\": \"Mon Sep  6 13:19:50 2021\", \"Product Id\": \"1008\", \"name\": \"Noodles\", \"Quantity\": 1, \"Price:\": 20}, \"1009\": {\"Transaction ID:\": \"1009110\", \"Transaction time:\": \"Mon Sep  6 12:54:18 2021\", \"Product Id\": \"1009\", \"name\": \"5 Star\", \"Quantity\": 2, \"Price:\": 40}, \"1010\": {\"Transaction ID:\": \"1010110\", \"Transaction time:\": \"Mon Sep  6 12:55:35 2021\", \"Product Id\": \"1010\", \"name\": \"Bytter\", \"Quantity\": 1, \"Price:\": 50}, \"1012\": {\"Transaction ID:\": \"1012110\", \"Transaction time:\": \"Mon Sep  6 12:58:00 2021\", \"Product Id\": \"1012\", \"name\": \"Sonpapdi\", \"Quantity\": 1, \"Price:\": 150}, \"1019\": {\"Transaction ID:\": \"1019110\", \"Transaction time:\": \"Mon Sep  6 12:58:41 2021\", \"Product Id\": \"1019\", \"name\": \"Bodywash\", \"Quantity\": 2, \"Price:\": 120}, \"1020\": {\"Transaction ID:\": \"1020110\", \"Transaction time:\": \"Mon Sep  6 12:59:37 2021\", \"Product Id\": \"1020\", \"name\": \"Ice-Cream\", \"Quantity\": 2, \"Price:\": 200}, \"1021\": {\"Transaction ID:\": \"1021110\", \"Transaction time:\": \"Mon Sep  6 13:00:27 2021\", \"Product Id\": \"1021\", \"name\": \"Panner\", \"Quantity\": 3, \"Price:\": 180}, \"1022\": {\"Transaction ID:\": \"1022110\", \"Transaction time:\": \"Mon Sep  6 13:21:24 2021\", \"Product Id\": \"1022\", \"name\": \"Crud\", \"Quantity\": 1, \"Price:\": 50}, \"1023\": {\"Transaction ID:\": \"1023110\", \"Transaction time:\": \"Mon Sep  6 13:02:18 2021\", \"Product Id\": \"1023\", \"name\": \"ilkyBar\", \"Quantity\": 3, \"Price:\": 75}, \"1024\": {\"Transaction ID:\": \"1024110\", \"Transaction time:\": \"Mon Sep  6 13:02:58 2021\", \"Product Id\": \"1024\", \"name\": \"All-Out\", \"Quantity\": 4, \"Price:\": 160}, \"1025\": {\"Transaction ID:\": \"1025110\", \"Transaction time:\": \"Mon Sep  6 13:22:32 2021\", \"Product Id\": \"1025\", \"name\": \"Facemask\", \"Quantity\": 1, \"Price:\": 60}, \"1026\": {\"Transaction ID:\": \"1026110\", \"Transaction time:\": \"Mon Sep  6 13:05:30 2021\", \"Product Id\": \"1026\", \"name\": \"Whaet\", \"Quantity\": 1, \"Price:\": 30}, \"1027\": {\"Transaction ID:\": \"1027110\", \"Transaction time:\": \"Mon Sep  6 13:13:07 2021\", \"Product Id\": \"1027\", \"name\": \"Rice\", \"Quantity\": 1, \"Price:\": 45}, \"1029\": {\"Transaction ID:\": \"1029110\", \"Transaction time:\": \"Mon Sep  6 13:07:21 2021\", \"Product Id\": \"1029\", \"name\": \"sugar\", \"Quantity\": 1, \"Price:\": 45}, \"1030\": {\"Transaction ID:\": \"1030110\", \"Transaction time:\": \"Mon Sep  6 13:08:13 2021\", \"Product Id\": \"1030\", \"name\": \"Dishwashing soap\", \"Quantity\": 1, \"Price:\": 15}, \"1031\": {\"Transaction ID:\": \"1031110\", \"Transaction time:\": \"Mon Sep  6 13:10:38 2021\", \"Product Id\": \"1031\", \"name\": \"Canned Beans\", \"Quantity\": 1, \"Price:\": 100}, \"1028\": {\"Transaction ID:\": \"1028110\", \"Transaction time:\": \"Mon Sep  6 13:12:18 2021\", \"Product Id\": \"1028\", \"name\": \"Bajra\", \"Quantity\": 2, \"Price:\": 70}, \"1016\": {\"Transaction ID:\": \"1016110\", \"Transaction time:\": \"Mon Sep  6 13:14:42 2021\", \"Product Id\": \"1016\", \"name\": \"Facewash\", \"Quantity\": 3, \"Price:\": 135}, \"1017\": {\"Transaction ID:\": \"1017110\", \"Transaction time:\": \"Mon Sep  6 13:15:37 2021\", \"Product Id\": \"1017\", \"name\": \"Hand-Sanitizer\", \"Quantity\": 1, \"Price:\": 35}, \"1002\": {\"Transaction ID:\": \"1002110\", \"Transaction time:\": \"Mon Sep  6 13:20:32 2021\", \"Product Id\": \"1002\", \"name\": \"Choco-Pie\", \"Quantity\": 2, \"Price:\": 50}, \"1011\": {\"Transaction ID:\": \"1011110\", \"Transaction time:\": \"Mon Sep  6 13:23:27 2021\", \"Product Id\": \"1011\", \"name\": \"Tomato-Ketchup\", \"Quantity\": 1, \"Price:\": 35}, \"1013\": {\"Transaction ID:\": \"1013110\", \"Transaction time:\": \"Mon Sep  6 13:25:08 2021\", \"Product Id\": \"1013\", \"name\": \"Hiar-oil\", \"Quantity\": 1, \"Price:\": 45}, \"1014\": {\"Transaction ID:\": \"1014110\", \"Transaction time:\": \"Mon Sep  6 13:25:57 2021\", \"Product Id\": \"1014\", \"name\": \"Nailpolish\", \"Quantity\": 1, \"Price:\": 50}, \"1015\": {\"Transaction ID:\": \"1015110\", \"Transaction time:\": \"Mon Sep  6 13:26:37 2021\", \"Product Id\": \"1015\", \"name\": \"Hair Serum\", \"Quantity\": 1, \"Price:\": 80}}'"
            ]
          },
          "metadata": {},
          "execution_count": 301
        }
      ]
    },
    {
      "cell_type": "code",
      "metadata": {
        "id": "bK-ceSeOHj05"
      },
      "source": [
        ""
      ],
      "execution_count": null,
      "outputs": []
    }
  ]
}